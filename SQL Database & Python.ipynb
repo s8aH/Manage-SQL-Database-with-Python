{
 "cells": [
  {
   "cell_type": "markdown",
   "id": "ba71fcb1-5d17-461a-aedc-8918283b2e15",
   "metadata": {
    "tags": []
   },
   "source": [
    "### Using MySQL and SQL with Python\n",
    "- use the python mysql connector to create tables\n",
    "- insert data into tables\n",
    "- select data using constrained SQL queries\n",
    "- alter tables by adding/removing and renaming columns, and changing column types\n",
    "- create foreign keys and relate tables together"
   ]
  },
  {
   "cell_type": "code",
   "execution_count": 66,
   "id": "4dda210d-1270-4f4c-8912-9ad920b091cb",
   "metadata": {},
   "outputs": [],
   "source": [
    "# import libraries\n",
    "\n",
    "import mysql.connector"
   ]
  },
  {
   "cell_type": "code",
   "execution_count": 67,
   "id": "de6d2620-f0a3-484d-a66b-1dcfe316b384",
   "metadata": {},
   "outputs": [],
   "source": [
    "db = mysql.connector.connect(\n",
    "    host=\"localhost\",\n",
    "    user=\"root\",\n",
    "    passwd=\"pwd0402\"\n",
    ")"
   ]
  },
  {
   "cell_type": "code",
   "execution_count": 68,
   "id": "631f66c1-31b9-48d3-bee2-fa8e5a01350b",
   "metadata": {},
   "outputs": [],
   "source": [
    "mycursor = db.cursor()"
   ]
  },
  {
   "cell_type": "code",
   "execution_count": 4,
   "id": "cc4bd631-eba7-4893-80b4-e442563c872c",
   "metadata": {},
   "outputs": [],
   "source": [
    "# mycursor.execute(\"CREATE DATABASE testdatabase\") # creates a new database\n",
    "# commented the above command out so I dont create multiple databases everytime I run the program"
   ]
  },
  {
   "cell_type": "code",
   "execution_count": 69,
   "id": "5c8ceb55-8c42-40b8-be6e-52c8cb117dff",
   "metadata": {},
   "outputs": [],
   "source": [
    "# create a connection to my 'testdatabase' database \n",
    "db = mysql.connector.connect(\n",
    "    host=\"localhost\",\n",
    "    user=\"root\",\n",
    "    passwd=\"pwd0402\",\n",
    "    database=\"testdatabase\"\n",
    ")"
   ]
  },
  {
   "cell_type": "code",
   "execution_count": 70,
   "id": "9c3c150c-f37a-4e80-861f-87b36dd2691b",
   "metadata": {},
   "outputs": [],
   "source": [
    "#\n",
    "mycursor = db.cursor()"
   ]
  },
  {
   "cell_type": "code",
   "execution_count": 7,
   "id": "2e40d4e5-d46d-4acb-8c3d-4ff1ec2b7355",
   "metadata": {},
   "outputs": [],
   "source": [
    "# create Person table inside of the database\n",
    "# mycursor.execute(\"CREATE TABLE Person (name VARCHAR(50), age smallint UNSIGNED, personID int PRIMARY KEY AUTO_INCREMENT)\")\n",
    "# AUTOINCREMENT: it will automatically generate a primary key that will be greater than or differnt from the last primaru key that we had in the table\n",
    "# so we can access any person uniquely "
   ]
  },
  {
   "cell_type": "code",
   "execution_count": 8,
   "id": "1a8954f7-ed91-4a72-8e0c-7619e205f45f",
   "metadata": {},
   "outputs": [],
   "source": [
    "# view Person table \n",
    "mycursor.execute(\"DESCRIBE Person\")"
   ]
  },
  {
   "cell_type": "code",
   "execution_count": 9,
   "id": "b1155764-fdc0-41f4-bdfe-0f083eff38b8",
   "metadata": {},
   "outputs": [
    {
     "name": "stdout",
     "output_type": "stream",
     "text": [
      "('name', 'varchar(50)', 'YES', '', None, '')\n",
      "('age', 'smallint unsigned', 'YES', '', None, '')\n",
      "('personID', 'int', 'NO', 'PRI', None, 'auto_increment')\n"
     ]
    }
   ],
   "source": [
    "# print all the ouput that mycursor got from the SQL query line by line\n",
    "for x in mycursor:\n",
    "    print(x)"
   ]
  },
  {
   "cell_type": "code",
   "execution_count": 10,
   "id": "fb2849a5-b9b4-43a3-ba43-f1659808f9de",
   "metadata": {},
   "outputs": [],
   "source": [
    "# add elements into the table \n",
    "mycursor.execute(\"INSERT INTO Person (name, age) VALUES (%s, %s)\", ('Tim', 19))\n",
    "# string formatting: a safer way of adding values using (%s, %s)\n",
    "db.commit() # commit these changes to the database\n"
   ]
  },
  {
   "cell_type": "code",
   "execution_count": 11,
   "id": "3096c03c-fa22-4d75-bea1-56096d435b68",
   "metadata": {},
   "outputs": [
    {
     "name": "stdout",
     "output_type": "stream",
     "text": [
      "('Tim', 19, 1)\n",
      "('Mary', 23, 2)\n",
      "('Kevin', 20, 3)\n",
      "('Tim', 19, 4)\n"
     ]
    }
   ],
   "source": [
    "# retrieve all data in the database\n",
    "mycursor.execute(\"SELECT * FROM Person\")\n",
    "\n",
    "for x in mycursor:\n",
    "    print(x)"
   ]
  },
  {
   "cell_type": "code",
   "execution_count": 12,
   "id": "2f957226-d232-4fe1-8af0-b52ffcfbbdf3",
   "metadata": {},
   "outputs": [],
   "source": [
    "# add elements into Person table\n",
    "mycursor.execute(\"INSERT INTO Person (name, age) VALUES (%s, %s)\", ('Mary', 23))\n",
    "mycursor.execute(\"INSERT INTO Person (name, age) VALUES (%s, %s)\", ('Kevin', 20))\n",
    "db.commit()\n"
   ]
  },
  {
   "cell_type": "code",
   "execution_count": 13,
   "id": "a4a3b557-12a1-4ef7-98a5-cae74570f86a",
   "metadata": {},
   "outputs": [
    {
     "name": "stdout",
     "output_type": "stream",
     "text": [
      "('Tim', 19, 1)\n",
      "('Mary', 23, 2)\n",
      "('Kevin', 20, 3)\n",
      "('Tim', 19, 4)\n",
      "('Mary', 23, 5)\n",
      "('Kevin', 20, 6)\n"
     ]
    }
   ],
   "source": [
    "# retrieve all data in the database\n",
    "mycursor.execute(\"SELECT * FROM Person\")\n",
    "\n",
    "for x in mycursor:\n",
    "    print(x)"
   ]
  },
  {
   "cell_type": "code",
   "execution_count": 14,
   "id": "5852f98e-bdc0-45f0-a1e8-0a320b8981e4",
   "metadata": {},
   "outputs": [],
   "source": [
    "from datetime import datetime"
   ]
  },
  {
   "cell_type": "code",
   "execution_count": 15,
   "id": "15fd8e9b-5eb1-4189-b7ca-08e8c208a4fb",
   "metadata": {},
   "outputs": [],
   "source": [
    "# create Test table\n",
    "# mycursor.execute(\"CREATE TABLE Test (name varchar(50) NOT NULL, created datetime NOT NULL, gender ENUM('M', 'F', 'O') NOT NULL, id int PRIMARY KEY NOT NULL AUTO_INCREMENT)\")"
   ]
  },
  {
   "cell_type": "code",
   "execution_count": 16,
   "id": "def03182-360b-494b-94fd-8e6268e49301",
   "metadata": {},
   "outputs": [],
   "source": [
    "# add elements\n",
    "#mycursor.execute(\"INSERT INTO Test (name, created, gender) VALUES (%s, %s, %s)\", (\"Mary\", datetime.now(), \"F\"))\n",
    "#mycursor.execute(\"INSERT INTO Test (name, created, gender) VALUES (%s, %s, %s)\", (\"Janice\", datetime.now(), \"F\"))\n",
    "#mycursor.execute(\"INSERT INTO Test (name, created, gender) VALUES (%s, %s, %s)\", (\"Kevin\", datetime.now(), \"M\"))\n",
    "\n",
    "db.commit()"
   ]
  },
  {
   "cell_type": "code",
   "execution_count": 17,
   "id": "20c4250c-c0d3-411a-affd-bf058191c59f",
   "metadata": {},
   "outputs": [
    {
     "name": "stdout",
     "output_type": "stream",
     "text": [
      "('Mary', datetime.datetime(2022, 11, 3, 14, 30, 48), 'F', 1, '')\n",
      "('Mary', datetime.datetime(2022, 11, 3, 14, 34, 16), 'F', 2, '')\n",
      "('Janice', datetime.datetime(2022, 11, 3, 14, 34, 16), 'F', 3, '')\n"
     ]
    }
   ],
   "source": [
    "# retrieve data of females ordered by an increasing id\n",
    "mycursor.execute(\"SELECT * FROM Test WHERE gender = 'F' ORDER BY id ASC\")\n",
    "\n",
    "for x in mycursor:\n",
    "    print(x)"
   ]
  },
  {
   "cell_type": "code",
   "execution_count": 18,
   "id": "c7d2d239-706a-4f5c-aab5-6d4ae9ca8c1e",
   "metadata": {},
   "outputs": [],
   "source": [
    "# add \"food\" column using ALTER TABLE statement\n",
    "#mycursor.execute(\"ALTER TABLE Test ADD COLUMN food VARCHAR(50) NOT NULL\")"
   ]
  },
  {
   "cell_type": "code",
   "execution_count": 19,
   "id": "566d1363-48b4-4ba0-8574-449a6c247a94",
   "metadata": {},
   "outputs": [
    {
     "name": "stdout",
     "output_type": "stream",
     "text": [
      "('name', 'varchar(50)', 'NO', '', None, '')\n",
      "('created', 'datetime', 'NO', '', None, '')\n",
      "('gender', \"enum('M','F','O')\", 'NO', '', None, '')\n",
      "('id', 'int', 'NO', 'PRI', None, 'auto_increment')\n",
      "('food', 'varchar(50)', 'NO', '', None, '')\n"
     ]
    }
   ],
   "source": [
    "mycursor.execute(\"DESCRIBE Test\")\n",
    "#print(mycursor.fetchone()) # get the first entry that is returned by mycursor. If cursor(buffered = True), fetches ALL rows and just returns one; otherwise, it only fetches one row from the full result set of the query. when you use the same cursor again, it'll complain that there are n-1 rows still waiting to be fetched\n",
    "for x in mycursor:         # retrieve all data\n",
    "    print(x)"
   ]
  },
  {
   "cell_type": "code",
   "execution_count": 7,
   "id": "40126020-8f58-4e16-91e3-4f92d50ebb83",
   "metadata": {},
   "outputs": [],
   "source": [
    "# delete a column in table\n",
    "mycursor.execute(\"ALTER TABLE Test DROP food\")"
   ]
  },
  {
   "cell_type": "code",
   "execution_count": 8,
   "id": "af477d89-8c27-4f8b-91f6-ace6957ad6f0",
   "metadata": {},
   "outputs": [],
   "source": [
    "# change column name\n",
    "mycursor.execute(\"ALTER TABLE Test CHANGE name first_name VARCHAR(50)\") # change name to first_name, then redefine the type\n"
   ]
  },
  {
   "cell_type": "code",
   "execution_count": 9,
   "id": "9df00c27-1cae-4908-b3fd-5b3afe308e42",
   "metadata": {},
   "outputs": [],
   "source": [
    "# a list of elements containing name, userID, password, email address. \n",
    "users = [('tim', 'techwithtim', '12345', 'tim@gmail.com'),\n",
    "        ('mary','maryhan7','password7','maryhan7@gmail.com'),\n",
    "        ('sarah','sarah1234','password1234','sarah123@gmail.com')]"
   ]
  },
  {
   "cell_type": "code",
   "execution_count": 10,
   "id": "edb983c8-d38a-46b9-998b-ad50921afdc8",
   "metadata": {},
   "outputs": [],
   "source": [
    "user_scores = [(45,100),(30,200),(46,124)]"
   ]
  },
  {
   "cell_type": "code",
   "execution_count": 44,
   "id": "4c795943-601a-4c41-a933-5dea1a8db287",
   "metadata": {},
   "outputs": [],
   "source": [
    "# create Users table\n",
    "Q1 = \"CREATE TABLE Users (id int PRIMARY KEY AUTO_INCREMENT, name VARCHAR(50), username VARCHAR(50), passwd VARCHAR(50))\" "
   ]
  },
  {
   "cell_type": "code",
   "execution_count": 45,
   "id": "b3162571-6012-47e3-abd0-0f2827b744e9",
   "metadata": {},
   "outputs": [],
   "source": [
    "# create Scores table\n",
    "Q2 = \"CREATE TABLE Scores (userId int PRIMARY KEY, FOREIGN KEY(userId) REFERENCES Users(id), game1 int DEFAULT 0, game2 int DEFAULT 0)\"\n",
    "\n"
   ]
  },
  {
   "cell_type": "code",
   "execution_count": 46,
   "id": "d006d835-aa84-4b5e-906a-fa1218c3cf26",
   "metadata": {},
   "outputs": [],
   "source": [
    "mycursor.execute(Q1)"
   ]
  },
  {
   "cell_type": "code",
   "execution_count": 47,
   "id": "8828f6f9-7211-4f5d-ae77-4368642c9b5b",
   "metadata": {},
   "outputs": [],
   "source": [
    "mycursor.execute(Q2)"
   ]
  },
  {
   "cell_type": "code",
   "execution_count": 48,
   "id": "52cedce0-6806-4a21-aaa1-e31560a5147d",
   "metadata": {},
   "outputs": [],
   "source": [
    "# view table names\n",
    "mycursor.execute(\"SHOW TABLES\")"
   ]
  },
  {
   "cell_type": "code",
   "execution_count": 49,
   "id": "d6b0df81-48a7-430a-ade8-aa271c781f4a",
   "metadata": {},
   "outputs": [
    {
     "name": "stdout",
     "output_type": "stream",
     "text": [
      "('Person',)\n",
      "('Scores',)\n",
      "('Test',)\n",
      "('Users',)\n"
     ]
    }
   ],
   "source": [
    "for x in mycursor:\n",
    "    print(x)"
   ]
  },
  {
   "cell_type": "code",
   "execution_count": 50,
   "id": "71c889b6-c0ad-4164-8e07-97bf6d5ee960",
   "metadata": {},
   "outputs": [],
   "source": [
    "# add a column\n",
    "mycursor.execute(\"ALTER TABLE Users ADD COLUMN email VARCHAR(50)\") # add email column into  Users table"
   ]
  },
  {
   "cell_type": "code",
   "execution_count": 37,
   "id": "71cbd8dc-d563-4ea8-b0b8-42921ad5b26c",
   "metadata": {},
   "outputs": [],
   "source": [
    "# insert multiple entries at once\n",
    "#mycursor.executemany(\"INSERT INTO Users (name, username, passwd, email) VALUES (%s, %s, %s, %s)\", users)"
   ]
  },
  {
   "cell_type": "code",
   "execution_count": 60,
   "id": "eba64fe4-6e2e-48ed-bdb5-eb17954f7354",
   "metadata": {},
   "outputs": [],
   "source": [
    "# insert multiple entries using for loop\n",
    "Q3 = \"INSERT INTO Users (name, username, passwd, email) VALUES (%s, %s, %s, %s)\" # same as the query above\n",
    "Q4 = \"INSERT INTO Scores (userId, game1, game2) VALUES (%s,%s,%s)\" # insert score into the Scores table\n",
    "for x, user in enumerate(users):\n",
    "    mycursor.execute(Q3, user)\n",
    "    last_id = mycursor.lastrowid # get the last row ID (primary key) that was inserted into the table\n",
    "    mycursor.execute(Q4, (last_id,) + user_scores[x])  # add scores into the Scores table for the corresponding user"
   ]
  },
  {
   "cell_type": "code",
   "execution_count": 62,
   "id": "9e436473-a09d-4da2-b546-b5edb1c79ac4",
   "metadata": {},
   "outputs": [],
   "source": [
    "db.commit() # save"
   ]
  },
  {
   "cell_type": "code",
   "execution_count": 71,
   "id": "9d339177-97f2-431f-b0fc-76dd253bdcae",
   "metadata": {},
   "outputs": [
    {
     "name": "stdout",
     "output_type": "stream",
     "text": [
      "(1, 'tim', 'techwithtim', '12345', 'tim@gmail.com')\n",
      "(2, 'mary', 'maryhan7', 'password7', 'maryhan7@gmail.com')\n",
      "(3, 'sarah', 'sarah1234', 'password1234', 'sarah123@gmail.com')\n",
      "(1, 45, 100)\n",
      "(2, 30, 200)\n",
      "(3, 46, 124)\n"
     ]
    }
   ],
   "source": [
    "# view rows in table\n",
    "mycursor.execute(\"SELECT * FROM Users\")\n",
    "for x in mycursor:\n",
    "    print(x)\n",
    "    \n",
    "mycursor.execute(\"SELECT * FROM Scores\")\n",
    "for x in mycursor:\n",
    "    print(x)"
   ]
  }
 ],
 "metadata": {
  "kernelspec": {
   "display_name": "Python 3 (ipykernel)",
   "language": "python",
   "name": "python3"
  },
  "language_info": {
   "codemirror_mode": {
    "name": "ipython",
    "version": 3
   },
   "file_extension": ".py",
   "mimetype": "text/x-python",
   "name": "python",
   "nbconvert_exporter": "python",
   "pygments_lexer": "ipython3",
   "version": "3.9.13"
  }
 },
 "nbformat": 4,
 "nbformat_minor": 5
}
